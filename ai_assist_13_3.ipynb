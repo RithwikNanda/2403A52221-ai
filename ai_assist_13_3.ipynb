{
  "nbformat": 4,
  "nbformat_minor": 0,
  "metadata": {
    "colab": {
      "provenance": [],
      "authorship_tag": "ABX9TyMDuvQ1A3iEcRl8FD/uMMC/",
      "include_colab_link": true
    },
    "kernelspec": {
      "name": "python3",
      "display_name": "Python 3"
    },
    "language_info": {
      "name": "python"
    }
  },
  "cells": [
    {
      "cell_type": "markdown",
      "metadata": {
        "id": "view-in-github",
        "colab_type": "text"
      },
      "source": [
        "<a href=\"https://colab.research.google.com/github/RithwikNanda/2403A52221-ai/blob/main/ai_assist_13_3.ipynb\" target=\"_parent\"><img src=\"https://colab.research.google.com/assets/colab-badge.svg\" alt=\"Open In Colab\"/></a>"
      ]
    },
    {
      "cell_type": "markdown",
      "source": [
        "1. Task Description #1 – Remove Repetition\n",
        "Task: Provide AI with the following redundant code and ask it to\n",
        "refactor"
      ],
      "metadata": {
        "id": "GS0K988uVB1n"
      }
    },
    {
      "cell_type": "code",
      "execution_count": 1,
      "metadata": {
        "id": "ngwJ0I6GPznZ"
      },
      "outputs": [],
      "source": [
        "import math\n",
        "\n",
        "def rectangle_area(x, y):\n",
        "    \"\"\"Calculates the area of a rectangle.\"\"\"\n",
        "    return x * y\n",
        "\n",
        "def square_area(x):\n",
        "    \"\"\"Calculates the area of a square.\"\"\"\n",
        "    return x * x\n",
        "\n",
        "def circle_area(x):\n",
        "    \"\"\"Calculates the area of a circle.\"\"\"\n",
        "    return math.pi * x * x\n",
        "\n",
        "def calculate_area(shape, x, y=0):\n",
        "    \"\"\"Calculates the area of different shapes using dictionary dispatch.\n",
        "\n",
        "    Args:\n",
        "        shape: The type of shape (\"rectangle\", \"square\", or \"circle\").\n",
        "        x: The first dimension (length for rectangle/square, radius for circle).\n",
        "        y: The second dimension (width for rectangle, defaults to 0 for square/circle).\n",
        "\n",
        "    Returns:\n",
        "        The calculated area of the shape.\n",
        "    \"\"\"\n",
        "    area_functions = {\n",
        "        \"rectangle\": rectangle_area,\n",
        "        \"square\": square_area,\n",
        "        \"circle\": circle_area\n",
        "    }\n",
        "\n",
        "    if shape in area_functions:\n",
        "        if shape == \"rectangle\":\n",
        "            return area_functions[shape](x, y)\n",
        "        else:\n",
        "            return area_functions[shape](x)\n",
        "    else:\n",
        "        raise ValueError(\"Invalid shape provided.\")"
      ]
    },
    {
      "cell_type": "code",
      "metadata": {
        "colab": {
          "base_uri": "https://localhost:8080/"
        },
        "id": "1cb9d1d0",
        "outputId": "ad1db1c9-f9f8-4686-902a-c5d75d4a20ea"
      },
      "source": [
        "shape_input = input(\"Enter the shape (rectangle, square, or circle): \")\n",
        "x_input = float(input(\"Enter the first dimension (length/side/radius): \"))\n",
        "y_input = 0\n",
        "if shape_input.lower() == \"rectangle\":\n",
        "    y_input = float(input(\"Enter the second dimension (width): \"))\n",
        "\n",
        "try:\n",
        "    area = calculate_area(shape_input.lower(), x_input, y_input)\n",
        "    print(f\"The area of the {shape_input} is: {area}\")\n",
        "except ValueError as e:\n",
        "    print(e)"
      ],
      "execution_count": 7,
      "outputs": [
        {
          "output_type": "stream",
          "name": "stdout",
          "text": [
            "Enter the shape (rectangle, square, or circle): circle\n",
            "Enter the first dimension (length/side/radius): 5\n",
            "The area of the circle is: 78.53981633974483\n"
          ]
        }
      ]
    },
    {
      "cell_type": "markdown",
      "source": [
        "Observation: The refactoring aimed to reduce repetition by using separate functions for each shape's area calculation and then using a dictionary to select the correct function.\n",
        "\n",
        "In the original code, the calculate_area function had if/elif statements that directly contained the area calculation logic for each shape. This meant that if you wanted to change how an area was calculated, you'd have to modify that single, larger function."
      ],
      "metadata": {
        "id": "qmIjF_3aVQFl"
      }
    },
    {
      "cell_type": "markdown",
      "source": [
        "2. Task Description #2 – Error Handling in Legacy Code\n",
        "Task: Legacy function without proper error handling"
      ],
      "metadata": {
        "id": "tHrTkmY_aDj1"
      }
    },
    {
      "cell_type": "code",
      "source": [
        "def read_file(filename):\n",
        "    \"\"\"Reads the content of a file with error handling.\"\"\"\n",
        "    try:\n",
        "        f = open(filename, \"r\")\n",
        "        data = f.read()\n",
        "        f.close()\n",
        "        return data\n",
        "    except FileNotFoundError:\n",
        "        print(f\"Error: File '{filename}' not found.\")\n",
        "        return None\n",
        "    except Exception as e:\n",
        "        print(f\"An error occurred while reading the file: {e}\")\n",
        "        return None"
      ],
      "metadata": {
        "id": "_kpDTnKxVfvE"
      },
      "execution_count": null,
      "outputs": []
    },
    {
      "cell_type": "markdown",
      "source": [
        "Observation: The original code lacked error handling. If the specified file didn't exist or if there were other issues during file reading (like permission errors), the program would crash with an unhandled exception. The refactored code includes a try...except block to gracefully handle potential errors."
      ],
      "metadata": {
        "id": "FGWenF9fZwve"
      }
    },
    {
      "cell_type": "markdown",
      "source": [
        "3. Task Description #3 – Complex Refactoring\n",
        "Task: Provide this legacy class to AI for readability and modularity\n",
        "improvements:"
      ],
      "metadata": {
        "id": "EK18mvgYaNGN"
      }
    },
    {
      "cell_type": "code",
      "source": [
        "class Student:\n",
        "def __init__(self, n, a, m1, m2, m3):\n",
        "self.n = n\n",
        "self.a = a\n",
        "self.m1 = m1\n",
        "self.m2 = m2\n",
        "self.m3 = m3\n",
        "def details(self):\n",
        "print(\"Name:\", self.n, \"Age:\", self.a)\n",
        "def total(self):\n",
        "return self.m1+self.m2+self.m3"
      ],
      "metadata": {
        "id": "2lDe1AP8Z19q"
      },
      "execution_count": 4,
      "outputs": []
    },
    {
      "cell_type": "code",
      "metadata": {
        "colab": {
          "base_uri": "https://localhost:8080/"
        },
        "id": "f52242b7",
        "outputId": "b0ec4c3d-fd0a-4bc2-fba2-95c774156cdb"
      },
      "source": [
        "name_input = input(\"Enter the student's name: \")\n",
        "age_input = int(input(\"Enter the student's age: \"))\n",
        "mark1_input = int(input(\"Enter the mark for subject 1: \"))\n",
        "mark2_input = int(input(\"Enter the mark for subject 2: \"))\n",
        "mark3_input = int(input(\"Enter the mark for subject 3: \"))\n",
        "\n",
        "# Create a Student object with dynamic input\n",
        "student1 = Student(name_input, age_input, mark1_input, mark2_input, mark3_input)\n",
        "\n",
        "# Display student details with improved readability\n",
        "print(\"\\n--- Student Details ---\")\n",
        "student1.details()\n",
        "print(f\"Marks: {student1.marks}\")\n",
        "print(f\"Total Marks: {student1.total_marks()}\")\n",
        "print(\"-----------------------\")"
      ],
      "execution_count": 5,
      "outputs": [
        {
          "output_type": "stream",
          "name": "stdout",
          "text": [
            "Enter the student's name: Jabby\n",
            "Enter the student's age: 18\n",
            "Enter the mark for subject 1: 78\n",
            "Enter the mark for subject 2: 90\n",
            "Enter the mark for subject 3: 89\n",
            "\n",
            "--- Student Details ---\n",
            "Name: Jabby Age: 18\n",
            "Marks: [78, 90, 89]\n",
            "Total Marks: 257\n",
            "-----------------------\n"
          ]
        }
      ]
    },
    {
      "cell_type": "markdown",
      "source": [
        "Observation: Instead of storing each mark in a separate attribute (self.m1, self.m2, self.m3), It stored them in a list called self.marks. This makes it easier to manage and iterate over the marks.\n",
        "\n",
        "By storing marks in a list, We could use the built-in sum() function in the total_marks method (return sum(self.marks)) instead of manually adding each mark (self.m1 + self.m2 + self.m3). This is more concise and readable, especially if you were to add more subjects in the future."
      ],
      "metadata": {
        "id": "QBydyhsqeUQE"
      }
    },
    {
      "cell_type": "markdown",
      "source": [
        "4. Task Description #4 – Inefficient Loop Refactoring\n",
        "Task: Refactor this inefficient loop with AI help"
      ],
      "metadata": {
        "id": "X3Djj9LuhLwP"
      }
    },
    {
      "cell_type": "code",
      "source": [
        "nums = [1,2,3,4,5,6,7,8,9,10]\n",
        "squares = [i * i for i in nums]\n",
        "print(squares)"
      ],
      "metadata": {
        "colab": {
          "base_uri": "https://localhost:8080/"
        },
        "id": "urJbOb3fe9ak",
        "outputId": "e75159e5-c8d7-4d31-9b8b-99e158dbae28"
      },
      "execution_count": 10,
      "outputs": [
        {
          "output_type": "stream",
          "name": "stdout",
          "text": [
            "[1, 4, 9, 16, 25, 36, 49, 64, 81, 100]\n"
          ]
        }
      ]
    },
    {
      "cell_type": "markdown",
      "source": [
        "Observation: The original code likely used a traditional for loop to iterate through the nums list, calculate the square of each number, and append it to a new list.\n",
        "\n",
        "The list comprehension achieves the same result as a multi-line for loop in a single line of code. This makes the code more compact and easier to read at a glance.\n",
        "\n",
        "List comprehensions are generally more efficient in Python than using a for loop with .append() to build a list. This is because list comprehensions are optimized at the C level."
      ],
      "metadata": {
        "id": "b-3w9JT-icAA"
      }
    },
    {
      "cell_type": "code",
      "source": [],
      "metadata": {
        "id": "nOqY89gQhWeK"
      },
      "execution_count": null,
      "outputs": []
    }
  ]
}