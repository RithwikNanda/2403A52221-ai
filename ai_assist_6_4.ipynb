{
  "nbformat": 4,
  "nbformat_minor": 0,
  "metadata": {
    "colab": {
      "provenance": [],
      "authorship_tag": "ABX9TyM4pBB3+zyLXuP7TCCQZFd8",
      "include_colab_link": true
    },
    "kernelspec": {
      "name": "python3",
      "display_name": "Python 3"
    },
    "language_info": {
      "name": "python"
    }
  },
  "cells": [
    {
      "cell_type": "markdown",
      "metadata": {
        "id": "view-in-github",
        "colab_type": "text"
      },
      "source": [
        "<a href=\"https://colab.research.google.com/github/RithwikNanda/2403A52221-ai/blob/main/ai_assist_6_4.ipynb\" target=\"_parent\"><img src=\"https://colab.research.google.com/assets/colab-badge.svg\" alt=\"Open In Colab\"/></a>"
      ]
    },
    {
      "cell_type": "markdown",
      "source": [
        "1. Start a Python class named Student with attributes name, roll_number, and marks. Prompt\n",
        "GitHub Copilot to complete methods for displaying details and checking if marks are above\n",
        "average."
      ],
      "metadata": {
        "id": "FeQdJWc6NvHS"
      }
    },
    {
      "cell_type": "code",
      "execution_count": null,
      "metadata": {
        "colab": {
          "base_uri": "https://localhost:8080/"
        },
        "id": "NeFp34ecJ5xI",
        "outputId": "e0669ba0-bff6-4da5-b37d-300aa7eaf444"
      },
      "outputs": [
        {
          "output_type": "stream",
          "name": "stdout",
          "text": [
            "Average marks: 79.75\n",
            "\n",
            "Name: Alice\n",
            "Roll No: A001\n",
            "Marks: 85\n",
            "Marks are higher than the average.\n",
            "Alice passed.\n",
            "--------------------\n",
            "Name: Bob\n",
            "Roll No: B002\n",
            "Marks: 72\n",
            "Marks are lower than the average.\n",
            "Bob failed.\n",
            "--------------------\n",
            "Name: Charlie\n",
            "Roll No: C003\n",
            "Marks: 90\n",
            "Marks are higher than the average.\n",
            "Charlie passed.\n",
            "--------------------\n",
            "Name: David\n",
            "Roll No: D004\n",
            "Marks: 72\n",
            "Marks are lower than the average.\n",
            "David failed.\n",
            "--------------------\n"
          ]
        }
      ],
      "source": [
        "class Student:\n",
        "    def __init__(self, name, roll_no, marks):\n",
        "        self.name = name\n",
        "        self.roll_no = roll_no\n",
        "        self.marks = marks\n",
        "\n",
        "    def display_details(self, average_marks):\n",
        "        print(f\"Name: {self.name}\")\n",
        "        print(f\"Roll No: {self.roll_no}\")\n",
        "        print(f\"Marks: {self.marks}\")\n",
        "        if self.marks > average_marks:\n",
        "            print(\"Marks are higher than the average.\")\n",
        "        elif self.marks < average_marks:\n",
        "            print(\"Marks are lower than the average.\")\n",
        "        else:\n",
        "            print(\"Marks are equal to the average.\")\n",
        "\n",
        "    def is_passed(self, passing_marks):\n",
        "        if self.marks >= passing_marks:\n",
        "            return True\n",
        "        else:\n",
        "            return False\n",
        "\n",
        "# Example usage:\n",
        "students = [\n",
        "    Student(\"Alice\", \"A001\", 85),\n",
        "    Student(\"Bob\", \"B002\", 72),\n",
        "    Student(\"Charlie\", \"C003\", 90),\n",
        "    Student(\"David\", \"D004\", 72),\n",
        "]\n",
        "\n",
        "# Calculate the average marks\n",
        "total_marks = sum(student.marks for student in students)\n",
        "average_marks = total_marks / len(students)\n",
        "\n",
        "# Display details for each student and compare with average, and check if passed\n",
        "passing_marks = 75  # Example passing marks\n",
        "print(f\"Average marks: {average_marks:.2f}\\n\")\n",
        "for student in students:\n",
        "    student.display_details(average_marks)\n",
        "    if student.is_passed(passing_marks):\n",
        "        print(f\"{student.name} passed.\")\n",
        "    else:\n",
        "        print(f\"{student.name} failed.\")\n",
        "    print(\"-\" * 20)"
      ]
    },
    {
      "cell_type": "markdown",
      "source": [
        "1st Prompt: can you help me complete my code which displays the details by using the class I typed? and also print if the student's marks are higher than the average."
      ],
      "metadata": {
        "id": "VFlOQLA3OHMO"
      }
    },
    {
      "cell_type": "markdown",
      "source": [
        "2. Write the first two lines of a for loop to iterate through a list of numbers. Use a comment\n",
        "prompt to let Copilot suggest how to calculate and print the square of even numbers only."
      ],
      "metadata": {
        "id": "Cxg5fGa9ORzT"
      }
    },
    {
      "cell_type": "code",
      "source": [
        "for i in range(10):\n",
        "    # calculate and print the square of even numbers only\n",
        "    if i % 2 == 0:\n",
        "        print(i**2)"
      ],
      "metadata": {
        "colab": {
          "base_uri": "https://localhost:8080/"
        },
        "id": "t-KWStB1OQ2h",
        "outputId": "695153b8-e4fe-4592-bc26-108c121da22f"
      },
      "execution_count": null,
      "outputs": [
        {
          "output_type": "stream",
          "name": "stdout",
          "text": [
            "0\n",
            "4\n",
            "16\n",
            "36\n",
            "64\n"
          ]
        }
      ]
    },
    {
      "cell_type": "markdown",
      "source": [
        "2nd Prompt: can you modify this loop such that it only prints out the squares of even numbers using conditional statements?"
      ],
      "metadata": {
        "id": "DoIYhP1sUjMk"
      }
    },
    {
      "cell_type": "markdown",
      "source": [
        "3. Create a class called BankAccount with attributes account_holder and balance. Use Copilot to\n",
        "complete methods for deposit(), withdraw(), and check for insufficient balance."
      ],
      "metadata": {
        "id": "BG98qvJ_UrSr"
      }
    },
    {
      "cell_type": "code",
      "source": [
        "class BankAccount:\n",
        "    def __init__(self, account_holder, balance=0.0):\n",
        "        self.account_holder = account_holder\n",
        "        self.balance = balance\n",
        "\n",
        "    def deposit(self, amount):\n",
        "        if amount > 0:\n",
        "            self.balance += amount\n",
        "            print(f\"Deposited {amount}. New balance: {self.balance}\")\n",
        "        else:\n",
        "            print(\"Deposit amount must be positive.\")\n",
        "\n",
        "    def withdraw(self, amount):\n",
        "        if amount > 0:\n",
        "            if self.balance >= amount:\n",
        "                self.balance -= amount\n",
        "                print(f\"Withdrew {amount}. New balance: {self.balance}\")\n",
        "            else:\n",
        "                print(\"Insufficient balance.\")\n",
        "        else:\n",
        "            print(\"Withdrawal amount must be positive.\")\n",
        "\n",
        "    def check_balance(self):\n",
        "        print(f\"Current balance: {self.balance}\")\n",
        "\n",
        "# Example usage:\n",
        "account1 = BankAccount(\"Alice\")\n",
        "account1.deposit(1000)\n",
        "account1.withdraw(500)\n",
        "account1.withdraw(600)\n",
        "account1.check_balance()"
      ],
      "metadata": {
        "id": "dIKwYFQEUqWB",
        "colab": {
          "base_uri": "https://localhost:8080/"
        },
        "outputId": "bdaaee6a-1393-4959-c9dd-60e1a345d2d4"
      },
      "execution_count": null,
      "outputs": [
        {
          "output_type": "stream",
          "name": "stdout",
          "text": [
            "Deposited 1000. New balance: 1000.0\n",
            "Withdrew 500. New balance: 500.0\n",
            "Insufficient balance.\n",
            "Current balance: 500.0\n"
          ]
        }
      ]
    },
    {
      "cell_type": "markdown",
      "source": [
        "3rd Prompt: Can you modify this code using this class such that the user can perform depositing, withdrawing and checking for insufficient balance? use if and self attributes aswell as make sure there is no overdrawing."
      ],
      "metadata": {
        "id": "SXM5WrCy472A"
      }
    },
    {
      "cell_type": "markdown",
      "source": [
        "4. Define a list of student dictionaries with keys name and score. Ask Copilot to write a while\n",
        "loop to print the names of students who scored more than 75."
      ],
      "metadata": {
        "id": "bQmzTvgn5NRJ"
      }
    },
    {
      "cell_type": "code",
      "source": [
        "students = [\n",
        "    {\"name\": \"Alice\", \"score\": 88},\n",
        "    {\"name\": \"Bob\", \"score\": 75},\n",
        "    {\"name\": \"Charlie\", \"score\": 92},\n",
        "    {\"name\": \"Diana\", \"score\": 85},\n",
        "    {\"name\": \"Ethan\", \"score\": 79}\n",
        "]\n",
        "\n",
        "i = 0\n",
        "while i < len(students):\n",
        "    if students[i][\"score\"] > 75:\n",
        "        print(students[i][\"name\"])\n",
        "    i += 1"
      ],
      "metadata": {
        "colab": {
          "base_uri": "https://localhost:8080/"
        },
        "id": "vLHTdScR5AoU",
        "outputId": "725b15ab-cfc7-47cc-8764-a7b448b5c392"
      },
      "execution_count": null,
      "outputs": [
        {
          "output_type": "stream",
          "name": "stdout",
          "text": [
            "Alice\n",
            "Charlie\n",
            "Diana\n",
            "Ethan\n"
          ]
        }
      ]
    },
    {
      "cell_type": "markdown",
      "source": [
        "4th Prompt: Can you modify this code by using a while loop to print the name od students who got more than 75 marks?"
      ],
      "metadata": {
        "id": "oGLLufRi624o"
      }
    },
    {
      "cell_type": "markdown",
      "source": [
        "5. Begin writing a class ShoppingCart with an empty items list. Prompt Copilot to generate\n",
        "methods to add_item, remove_item, and use a loop to calculate the total bill using conditional\n",
        "discounts."
      ],
      "metadata": {
        "id": "aMwf9JYW7Kuy"
      }
    },
    {
      "cell_type": "code",
      "source": [
        "class ShoppingCart:\n",
        "    def __init__(self):\n",
        "        self.items = []\n",
        "\n",
        "    def add_item(self, item):\n",
        "        self.items.append(item)\n",
        "        print(f\"Added {item['name']} to the cart.\")\n",
        "\n",
        "    def remove_item(self, item_name):\n",
        "        for item in self.items:\n",
        "            if item['name'] == item_name:\n",
        "                self.items.remove(item)\n",
        "                print(f\"Removed {item_name} from the cart.\")\n",
        "                return\n",
        "        print(f\"{item_name} not found in the cart.\")\n",
        "\n",
        "    def calculate_total(self):\n",
        "        total = 0\n",
        "        for item in self.items:\n",
        "            item_total = item['price'] * item['quantity']\n",
        "            # Apply conditional discounts (example: 10% discount for items over $50)\n",
        "            if item_total > 50:\n",
        "                item_total *= 0.9\n",
        "            total += item_total\n",
        "        return total\n",
        "\n",
        "# Example usage:\n",
        "cart = ShoppingCart()\n",
        "cart.add_item({\"name\": \"Laptop\", \"price\": 1000, \"quantity\": 1})\n",
        "cart.add_item({\"name\": \"Mouse\", \"price\": 25, \"quantity\": 2})\n",
        "cart.add_item({\"name\": \"Keyboard\", \"price\": 75, \"quantity\": 1})\n",
        "\n",
        "cart.remove_item(\"Mouse\")\n",
        "\n",
        "print(f\"Total bill: ${cart.calculate_total():.2f}\")"
      ],
      "metadata": {
        "colab": {
          "base_uri": "https://localhost:8080/"
        },
        "id": "YFixWwNm67fS",
        "outputId": "b375fefe-21f9-40b1-9aa2-57fb80b0cb43"
      },
      "execution_count": null,
      "outputs": [
        {
          "output_type": "stream",
          "name": "stdout",
          "text": [
            "Added Laptop to the cart.\n",
            "Added Mouse to the cart.\n",
            "Added Keyboard to the cart.\n",
            "Removed Mouse from the cart.\n",
            "Total bill: $967.50\n"
          ]
        }
      ]
    },
    {
      "cell_type": "markdown",
      "source": [
        "5th Prompt: Can you modify this code such that the user can add and remove an item from that \"items\" list? Also use loop to calculate the total bill using conditional discounts."
      ],
      "metadata": {
        "id": "eDkSe89o-ESI"
      }
    },
    {
      "cell_type": "code",
      "source": [],
      "metadata": {
        "id": "Y2gedheF-H88"
      },
      "execution_count": null,
      "outputs": []
    }
  ]
}