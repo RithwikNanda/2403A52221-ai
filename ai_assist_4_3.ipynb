{
  "nbformat": 4,
  "nbformat_minor": 0,
  "metadata": {
    "colab": {
      "provenance": [],
      "authorship_tag": "ABX9TyNyqnmU61DZfU4n/KEPDL4L",
      "include_colab_link": true
    },
    "kernelspec": {
      "name": "python3",
      "display_name": "Python 3"
    },
    "language_info": {
      "name": "python"
    }
  },
  "cells": [
    {
      "cell_type": "markdown",
      "metadata": {
        "id": "view-in-github",
        "colab_type": "text"
      },
      "source": [
        "<a href=\"https://colab.research.google.com/github/RithwikNanda/2403A52221-ai/blob/main/ai_assist_4_3.ipynb\" target=\"_parent\"><img src=\"https://colab.research.google.com/assets/colab-badge.svg\" alt=\"Open In Colab\"/></a>"
      ]
    },
    {
      "cell_type": "code",
      "execution_count": null,
      "metadata": {
        "id": "mpQBVQvrs-gB"
      },
      "outputs": [],
      "source": []
    },
    {
      "cell_type": "markdown",
      "source": [
        "1.Zero-shot: Prompt AI to write a function that checks whether a given year is a leap year."
      ],
      "metadata": {
        "id": "5a_wWPPZuhu9"
      }
    },
    {
      "cell_type": "code",
      "metadata": {
        "colab": {
          "base_uri": "https://localhost:8080/"
        },
        "id": "66d366b7",
        "outputId": "f0ed8515-469b-45cd-8f85-612644002643"
      },
      "source": [
        "def is_leap_year(year):\n",
        "  \"\"\"\n",
        "  Checks if a given year is a leap year.\n",
        "\n",
        "  Args:\n",
        "    year: An integer representing the year.\n",
        "\n",
        "  Returns:\n",
        "    True if the year is a leap year, False otherwise.\n",
        "  \"\"\"\n",
        "  if (year % 4 == 0 and year % 100 != 0) or (year % 400 == 0):\n",
        "    return True\n",
        "  else:\n",
        "    return False\n",
        "\n",
        "# Example usage:\n",
        "print(f\"2024 is a leap year: {is_leap_year(2024)}\")\n",
        "print(f\"2023 is a leap year: {is_leap_year(2023)}\")\n",
        "print(f\"2000 is a leap year: {is_leap_year(2000)}\")\n",
        "print(f\"1900 is a leap year: {is_leap_year(1900)}\")"
      ],
      "execution_count": null,
      "outputs": [
        {
          "output_type": "stream",
          "name": "stdout",
          "text": [
            "2024 is a leap year: True\n",
            "2023 is a leap year: False\n",
            "2000 is a leap year: True\n",
            "1900 is a leap year: False\n"
          ]
        }
      ]
    },
    {
      "cell_type": "markdown",
      "source": [
        "1st Prompt: Can you write a python code which contains a function which checks if a given year is a leap year?"
      ],
      "metadata": {
        "id": "F9uhX-U9uw_b"
      }
    },
    {
      "cell_type": "markdown",
      "source": [
        "2. One-shot: Give one input-output example to guide AI in writing a function that\n",
        "converts centimeters to inches."
      ],
      "metadata": {
        "id": "GE_LUvCswI_-"
      }
    },
    {
      "cell_type": "code",
      "source": [
        "def cm_to_m(cm):\n",
        "  \"\"\"\n",
        "  Converts centimeters to meters.\n",
        "\n",
        "  Args:\n",
        "    cm: A float representing the length in centimeters.\n",
        "\n",
        "  Returns:\n",
        "    A float representing the length in meters.\n",
        "  \"\"\"\n",
        "  return cm / 100.0\n",
        "\n",
        "# Example usage:\n",
        "print(f\"1 cm is equal to {cm_to_m(1.0)} m\")\n",
        "print(f\"100 cm is equal to {cm_to_m(100.0)} m\")\n",
        "print(f\"250.5 cm is equal to {cm_to_m(250.5)} m\")"
      ],
      "metadata": {
        "colab": {
          "base_uri": "https://localhost:8080/"
        },
        "id": "JcPOa7YTu3gw",
        "outputId": "53130f6c-28fe-4977-c164-44ac250fe628"
      },
      "execution_count": null,
      "outputs": [
        {
          "output_type": "stream",
          "name": "stdout",
          "text": [
            "1 cm is equal to 0.01 m\n",
            "100 cm is equal to 1.0 m\n",
            "250.5 cm is equal to 2.505 m\n"
          ]
        }
      ]
    },
    {
      "cell_type": "markdown",
      "source": [
        "2nd Prompt: Can you give me another code which has a function to convert centimeters into meters? Use float instead of int, for example 1cm should give an output as 0.01m."
      ],
      "metadata": {
        "id": "Pf2EY9fAwZ9s"
      }
    },
    {
      "cell_type": "code",
      "source": [],
      "metadata": {
        "id": "2jHguV85wgZb"
      },
      "execution_count": null,
      "outputs": []
    },
    {
      "cell_type": "markdown",
      "source": [
        "3. Few-shot: Provide 2–3 examples to generate a function that formats full names as “Last, First”."
      ],
      "metadata": {
        "id": "HtiBz2OuzeYa"
      }
    },
    {
      "cell_type": "code",
      "metadata": {
        "colab": {
          "base_uri": "https://localhost:8080/"
        },
        "id": "193d4a16",
        "outputId": "8b398427-fa46-450e-dd08-3295e7b62a4e"
      },
      "source": [
        "def separate_name(full_name):\n",
        "  \"\"\"\n",
        "  Separates a full name into first and last names.\n",
        "\n",
        "  Args:\n",
        "    full_name: A string representing the full name.\n",
        "\n",
        "  Returns:\n",
        "    A tuple containing the first name and last name.\n",
        "  \"\"\"\n",
        "  names = full_name.split()\n",
        "  if len(names) > 1:\n",
        "    first_name = names[0]\n",
        "    last_name = names[-1]\n",
        "    return first_name, last_name\n",
        "  elif len(names) == 1:\n",
        "    return names[0], \"\" # Return empty string for last name if only one name\n",
        "  else:\n",
        "    return \"\", \"\" # Return empty strings for both if no name provided\n",
        "\n",
        "\n",
        "# Example usage:\n",
        "first, last = separate_name(\"Sathya Prakash Rao\")\n",
        "print(f\"Full name: Sathya Prakash Rao, First name: {first}, Last name: {last}\")\n",
        "\n",
        "first, last = separate_name(\"Jane Doe\")\n",
        "print(f\"Full name: Jane Doe, First name: {first}, Last name: {last}\")\n",
        "\n",
        "first, last = separate_name(\"John\")\n",
        "print(f\"Full name: John, First name: {first}, Last name: {last}\")\n",
        "\n",
        "first, last = separate_name(\"\")\n",
        "print(f\"Full name: '', First name: {first}, Last name: {last}\")"
      ],
      "execution_count": null,
      "outputs": [
        {
          "output_type": "stream",
          "name": "stdout",
          "text": [
            "Full name: Sathya Prakash Rao, First name: Sathya, Last name: Rao\n",
            "Full name: Jane Doe, First name: Jane, Last name: Doe\n",
            "Full name: John, First name: John, Last name: \n",
            "Full name: '', First name: , Last name: \n"
          ]
        }
      ]
    },
    {
      "cell_type": "markdown",
      "source": [
        "3rd prompt:can you give me another code with a function which separates people's full names into first names and last names? for example:- Sathya Prakash Rao when separated into first name is Sathya and the last name is Rao or Jane Doe when separated into first name is Jane and Doe is the last name."
      ],
      "metadata": {
        "id": "VAtK0ItLztGJ"
      }
    },
    {
      "cell_type": "markdown",
      "source": [
        "4. Compare zero-shot and few-shot prompts for writing a function that counts the\n",
        "number of vowels in a string."
      ],
      "metadata": {
        "id": "k8PJq3rF0FAa"
      }
    },
    {
      "cell_type": "markdown",
      "source": [
        "4.1: Zero Shot"
      ],
      "metadata": {
        "id": "15qUIkfk0IvL"
      }
    },
    {
      "cell_type": "code",
      "metadata": {
        "colab": {
          "base_uri": "https://localhost:8080/"
        },
        "id": "64b3960b",
        "outputId": "d955ccaf-8f6c-4757-c47b-a6add0dd6db4"
      },
      "source": [
        "def count_vowels(text):\n",
        "  \"\"\"\n",
        "  Counts the number of vowels in a string.\n",
        "\n",
        "  Args:\n",
        "    text: The input string.\n",
        "\n",
        "  Returns:\n",
        "    The number of vowels in the string.\n",
        "  \"\"\"\n",
        "  vowels = \"aeiouAEIOU\"\n",
        "  vowel_count = 0\n",
        "  for char in text:\n",
        "    if char in vowels:\n",
        "      vowel_count += 1\n",
        "  return vowel_count\n",
        "\n",
        "# Example usage:\n",
        "print(f\"Number of vowels in 'hello world': {count_vowels('hello world')}\")\n",
        "print(f\"Number of vowels in 'Python Programming': {count_vowels('Python Programming')}\")\n",
        "print(f\"Number of vowels in 'AEIOU': {count_vowels('AEIOU')}\")\n",
        "print(f\"Number of vowels in 'bcdfg': {count_vowels('bcdfg')}\")"
      ],
      "execution_count": null,
      "outputs": [
        {
          "output_type": "stream",
          "name": "stdout",
          "text": [
            "Number of vowels in 'hello world': 3\n",
            "Number of vowels in 'Python Programming': 4\n",
            "Number of vowels in 'AEIOU': 5\n",
            "Number of vowels in 'bcdfg': 0\n"
          ]
        }
      ]
    },
    {
      "cell_type": "markdown",
      "source": [
        "4.1 Prompt: now can you give me a code with a function which counts the no.of vowels in a string?"
      ],
      "metadata": {
        "id": "-7PfMGly0nen"
      }
    },
    {
      "cell_type": "markdown",
      "source": [
        "4.2) few shot."
      ],
      "metadata": {
        "id": "Zy2CXicU1f1L"
      }
    },
    {
      "cell_type": "code",
      "source": [
        "def count_vowels(text):\n",
        "  \"\"\"\n",
        "  Counts the number of vowels in a string.\n",
        "\n",
        "  Args:\n",
        "    text: The input string.\n",
        "\n",
        "  Returns:\n",
        "    The number of vowels in the string.\n",
        "  \"\"\"\n",
        "  vowels = \"aeiouAEIOU\"\n",
        "  vowel_count = 0\n",
        "  for char in text:\n",
        "    if char in vowels:\n",
        "      vowel_count += 1\n",
        "  return vowel_count\n",
        "\n",
        "# Example usage:\n",
        "print(f\"Number of vowels in 'Elephant': {count_vowels('Elephant')}\")\n",
        "print(f\"Number of vowels in 'GheImpoAE': {count_vowels('GheImpoAE')}\")\n",
        "print(f\"Number of vowels in 'hello world': {count_vowels('hello world')}\")"
      ],
      "metadata": {
        "colab": {
          "base_uri": "https://localhost:8080/"
        },
        "id": "nZFFIwMz0rpA",
        "outputId": "ee05c714-6c20-4e2b-a5b3-4a659f7711c0"
      },
      "execution_count": null,
      "outputs": [
        {
          "output_type": "stream",
          "name": "stdout",
          "text": [
            "Number of vowels in 'Elephant': 3\n",
            "Number of vowels in 'GheImpoAE': 5\n",
            "Number of vowels in 'hello world': 3\n"
          ]
        }
      ]
    },
    {
      "cell_type": "markdown",
      "source": [
        "4.2 Prompt: Can you give me a code which has a function which counts the number of vowels in a string? for example:- \"Elephant\" has 3 vowels E, e and a and \"GheImpoAE\" has 4 vowels e,o,A,E."
      ],
      "metadata": {
        "id": "K3X7kQdI1rMs"
      }
    },
    {
      "cell_type": "markdown",
      "source": [
        "5. Use few-shot prompting to generate a function that reads a .txt file and returns the number of lines."
      ],
      "metadata": {
        "id": "KRUmmPr41zjf"
      }
    },
    {
      "cell_type": "code",
      "metadata": {
        "id": "5c27c998"
      },
      "source": [
        "def count_lines_in_file(file_path):\n",
        "  \"\"\"\n",
        "  Reads a .txt file and counts the number of lines.\n",
        "\n",
        "  Args:\n",
        "    file_path: The path to the .txt file.\n",
        "\n",
        "  Returns:\n",
        "    The number of lines in the file.\n",
        "  \"\"\"\n",
        "  try:\n",
        "    with open(file_path, 'r') as file:\n",
        "      line_count = 0\n",
        "      for line in file:\n",
        "        line_count += 1\n",
        "    return line_count\n",
        "  except FileNotFoundError:\n",
        "    return \"Error: File not found.\"\n",
        "  except Exception as e:\n",
        "    return f\"An error occurred: {e}\"\n",
        "\n",
        "# Example usage (replace 'your_file.txt' with the actual file path):\n",
        "# Create a dummy file for demonstration\n",
        "with open('example_file.txt', 'w') as f:\n",
        "    f.write(\"This is line 1.\\n\")\n",
        "    f.write(\"This is line 2, which is a bit longer and might wrap.\\n\")\n",
        "    f.write(\"Line 3.\\n\")\n",
        "    f.write(\"Line 4.\\n\")\n",
        "    f.write(\"Line 5, without a full stop\")\n",
        "    f.write(\"Line 6.\")\n",
        "\n",
        "\n",
        "file_path = 'example_file.txt'\n",
        "number_of_lines = count_lines_in_file(file_path)\n",
        "print(f\"The file '{file_path}' has {number_of_lines} lines.\")"
      ],
      "execution_count": null,
      "outputs": []
    },
    {
      "cell_type": "markdown",
      "source": [
        "5 Prompt: Can you give me a code which has a function which reads a .txt file and counts and returns the number of lines present in that file?. For example if the .txt file has 6 physical row of words print 6, it doesnt matter if the line has been stopped or not with a full stop or any other punctuation. if the line isnt finish yet take it as a whole line even if it isnt finished"
      ],
      "metadata": {
        "id": "_Gj3IIdY3sy2"
      }
    },
    {
      "cell_type": "code",
      "source": [],
      "metadata": {
        "id": "MZdrCXFu30k6"
      },
      "execution_count": null,
      "outputs": []
    }
  ]
}